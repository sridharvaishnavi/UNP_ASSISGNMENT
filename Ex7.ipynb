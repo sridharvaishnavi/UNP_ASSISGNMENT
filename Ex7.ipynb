{
  "nbformat": 4,
  "nbformat_minor": 0,
  "metadata": {
    "kernelspec": {
      "display_name": "Python 3",
      "language": "python",
      "name": "python3"
    },
    "language_info": {
      "codemirror_mode": {
        "name": "ipython",
        "version": 3
      },
      "file_extension": ".py",
      "mimetype": "text/x-python",
      "name": "python",
      "nbconvert_exporter": "python",
      "pygments_lexer": "ipython3",
      "version": "3.7.3"
    },
    "learntools_metadata": {
      "lesson_index": 6,
      "type": "exercise"
    },
    "colab": {
      "name": "Ex7.ipynb",
      "provenance": [],
      "include_colab_link": true
    }
  },
  "cells": [
    {
      "cell_type": "markdown",
      "metadata": {
        "id": "view-in-github",
        "colab_type": "text"
      },
      "source": [
        "<a href=\"https://colab.research.google.com/github/sridharvaishnavi/UNP_ASSISGNMENT/blob/main/Ex7.ipynb\" target=\"_parent\"><img src=\"https://colab.research.google.com/assets/colab-badge.svg\" alt=\"Open In Colab\"/></a>"
      ]
    },
    {
      "cell_type": "markdown",
      "metadata": {
        "id": "QhePDFqva5rw"
      },
      "source": [
        "# Try It Yourself\n",
        "\n",
        "There are only three problems in this last set of exercises, but they're all pretty tricky, so be on guard! \n",
        "\n",
        "Run the setup code below before working on the questions."
      ]
    },
    {
      "cell_type": "code",
      "metadata": {
        "colab": {
          "base_uri": "https://localhost:8080/"
        },
        "id": "puq52fqra5r6",
        "outputId": "515efe53-4227-46a2-e918-434ad3d1b889"
      },
      "source": [
        "# SETUP - Refer to Ex 1\n",
        "!pip install git+https://github.com/ML-Challenge/learntools.git\n",
        "from learntools.core import binder; binder.bind(globals())\n",
        "from learntools.python.ex7 import *\n",
        "print(\"setup complete!\")\n",
        "print (\"Hello World\")"
      ],
      "execution_count": 21,
      "outputs": [
        {
          "output_type": "stream",
          "name": "stdout",
          "text": [
            "Collecting git+https://github.com/ML-Challenge/learntools.git\n",
            "  Cloning https://github.com/ML-Challenge/learntools.git to /tmp/pip-req-build-_xdvhtt9\n",
            "  Running command git clone -q https://github.com/ML-Challenge/learntools.git /tmp/pip-req-build-_xdvhtt9\n"
          ]
        },
        {
          "output_type": "stream",
          "name": "stderr",
          "text": [
            "WARNING:root:Ignoring repeated attempt to bind to globals\n"
          ]
        },
        {
          "output_type": "stream",
          "name": "stdout",
          "text": [
            "setup complete!\n",
            "Hello World\n"
          ]
        }
      ]
    },
    {
      "cell_type": "markdown",
      "metadata": {
        "id": "TkytirX0a5r-"
      },
      "source": [
        "# 1.\n",
        "\n",
        "After completing the exercises on lists and tuples, Jimmy noticed that, according to his `estimate_average_slot_payout` function, the slot machines at the Learn Python Casino are actually rigged *against* the house, and are profitable to play in the long run.\n",
        "\n",
        "Starting with $200 in his pocket, Jimmy has played the slots 500 times, recording his new balance in a list after each spin. He used Python's `matplotlib` library to make a graph of his balance over time:"
      ]
    },
    {
      "cell_type": "code",
      "metadata": {
        "colab": {
          "base_uri": "https://localhost:8080/",
          "height": 446
        },
        "id": "UhLUPV4xa5r_",
        "outputId": "09fc7941-a77a-4994-f077-e84c0e070bd5"
      },
      "source": [
        "# Import the jimmy_slots submodule\n",
        "from learntools.python import jimmy_slots\n",
        "# Call the get_graph() function to get Jimmy's graph\n",
        "graph = jimmy_slots.get_graph()\n",
        "graph"
      ],
      "execution_count": 2,
      "outputs": [
        {
          "output_type": "execute_result",
          "data": {
            "text/plain": [
              "<matplotlib.axes._subplots.AxesSubplot at 0x7f3a9c5c8110>"
            ]
          },
          "metadata": {},
          "execution_count": 2
        },
        {
          "output_type": "display_data",
          "data": {
            "image/png": "[encoded data removed]",
            "text/plain": [
              "<Figure size 792x504 with 1 Axes>"
            ]
          },
          "metadata": {
            "needs_background": "light"
          }
        }
      ]
    },
    {
      "cell_type": "markdown",
      "metadata": {
        "id": "wg-4BJ4Ba5sA"
      },
      "source": [
        "As you can see, he's hit a bit of bad luck recently. He wants to tweet this along with some choice emojis, but, as it looks right now, his followers will probably find it confusing. He's asked if you can help him make the following changes:\n",
        "\n",
        "1. Add the title \"Results of 500 slot machine pulls\"\n",
        "2. Make the y-axis start at 0. \n",
        "3. Add the label \"Balance\" to the y-axis\n",
        "\n",
        "After calling `type(graph)` you see that Jimmy's graph is of type `matplotlib.axes._subplots.AxesSubplot`. Hm, that's a new one. By calling `dir(graph)`, you find three methods that seem like they'll be useful: `.set_title()`, `.set_ylim()`, and `.set_ylabel()`. \n",
        "\n",
        "Use these methods to complete the function `prettify_graph` according to Jimmy's requests. We've already checked off the first request for you (setting a title).\n",
        "\n",
        "(Remember: if you don't know what these methods do, use the `help()` function!)"
      ]
    },
    {
      "cell_type": "code",
      "metadata": {
        "colab": {
          "base_uri": "https://localhost:8080/",
          "height": 889
        },
        "id": "qMDpT5A3a5sB",
        "outputId": "2fe49e66-ca08-4a0f-e970-90a3e475150d"
      },
      "source": [
        "def prettify_graph(graph):\n",
        "    \"\"\"Modify the given graph according to Jimmy's requests: add a title, make the y-axis\n",
        "    start at 0, label the y-axis. (And, if you're feeling ambitious, format the tick marks\n",
        "    as dollar amounts using the \"$\" symbol.)\n",
        "    \"\"\"\n",
        "    graph.set_title(\"Results of 500 slot machine pulls\")\n",
        "    # Complete steps 2 and 3 here\n",
        "\n",
        "graph = jimmy_slots.get_graph()\n",
        "prettify_graph(graph)\n",
        "graph\n",
        "def prettify_graph(graph):\n",
        "    graph.set_title(\"Results of 500 slot machine pulls\")\n",
        "    # Make the y-axis begin at 0\n",
        "    graph.set_ylim(bottom=0)\n",
        "    # Label the y-axis\n",
        "    graph.set_ylabel(\"Balance\")\n",
        "    # Bonus: format the numbers on the y-axis as dollar amounts\n",
        "    # An array of the values displayed on the y-axis (150, 175, 200, etc.)\n",
        "    ticks = graph.get_yticks()\n",
        "    # Format those values into strings beginning with dollar sign\n",
        "    new_labels = ['${}'.format(int(amt)) for amt in ticks]\n",
        "    # Set the new labels\n",
        "    graph.set_yticklabels(new_labels)\n",
        "graph = jimmy_slots.get_graph()\n",
        "prettify_graph(graph)\n",
        "graph"
      ],
      "execution_count": 3,
      "outputs": [
        {
          "output_type": "execute_result",
          "data": {
            "text/plain": [
              "<matplotlib.axes._subplots.AxesSubplot at 0x7f3a97f82d50>"
            ]
          },
          "metadata": {},
          "execution_count": 3
        },
        {
          "output_type": "display_data",
          "data": {
            "image/png": "[encoded data removed]",
            "text/plain": [
              "<Figure size 792x504 with 1 Axes>"
            ]
          },
          "metadata": {
            "needs_background": "light"
          }
        },
        {
          "output_type": "display_data",
          "data": {
            "image/png": "[encoded data removed]",
            "text/plain": [
              "<Figure size 792x504 with 1 Axes>"
            ]
          },
          "metadata": {
            "needs_background": "light"
          }
        }
      ]
    },
    {
      "cell_type": "markdown",
      "metadata": {
        "id": "U_vvwFGta5sC"
      },
      "source": [
        "**Bonus:** Can you format the numbers on the y-axis so they look like dollar amounts? e.g. $200 instead of just 200.\n",
        "\n",
        "(We're not going to tell you what method(s) to use here. You'll need to go digging yourself with `dir(graph)` and/or `help(graph)`.)"
      ]
    },
    {
      "cell_type": "code",
      "metadata": {
        "id": "TCkl6eyUa5sE"
      },
      "source": [
        "# Check your answer (Run this code cell to receive credit!)\n",
        "q1.solution()"
      ],
      "execution_count": null,
      "outputs": []
    },
    {
      "cell_type": "markdown",
      "metadata": {
        "id": "T0pQVjp7a5sG"
      },
      "source": [
        "# 2. <span title=\"Spicy\" style=\"color: coral\">🌶️🌶️</span>\n",
        "\n",
        "This is a very challenging problem.  Don't forget that you can receive a hint!\n",
        "\n",
        "Luigi is trying to perform an analysis to determine the best items for winning races on the Mario Kart circuit. He has some data in the form of lists of dictionaries that look like...\n",
        "\n",
        "    [\n",
        "        {'name': 'Peach', 'items': ['green shell', 'banana', 'green shell',], 'finish': 3},\n",
        "        {'name': 'Bowser', 'items': ['green shell',], 'finish': 1},\n",
        "        # Sometimes the racer's name wasn't recorded\n",
        "        {'name': None, 'items': ['mushroom',], 'finish': 2},\n",
        "        {'name': 'Toad', 'items': ['green shell', 'mushroom'], 'finish': 1},\n",
        "    ]\n",
        "\n",
        "`'items'` is a list of all the power-up items the racer picked up in that race, and `'finish'` was their placement in the race (1 for first place, 3 for third, etc.).\n",
        "\n",
        "He wrote the function below to take a list like this and return a dictionary mapping each item to how many times it was picked up by first-place finishers."
      ]
    },
    {
      "cell_type": "code",
      "metadata": {
        "id": "-s_zrmQja5sI"
      },
      "source": [
        "def best_items(racers):\n",
        "    \"\"\"Given a list of racer dictionaries, return a dictionary mapping items to the number\n",
        "    of times those items were picked up by racers who finished in first place.\n",
        "    \"\"\"\n",
        "    winner_item_counts = {}\n",
        "    for i in range(len(racers)):\n",
        "        # The i'th racer dictionary\n",
        "        racer = racers[i]\n",
        "        # We're only interested in racers who finished in first\n",
        "        if racer['finish'] == 1:\n",
        "            for i in racer['items']:\n",
        "                # Add one to the count for this item (adding it to the dict if necessary)\n",
        "                if i not in winner_item_counts:\n",
        "                    winner_item_counts[i] = 0\n",
        "                winner_item_counts[i] += 1\n",
        "\n",
        "        # Data quality issues :/ Print a warning about racers with no name set. We'll take care of it later.\n",
        "        if racer['items'] is None:\n",
        "           print((\"WARNING: Encountered racer with unknown name on iteration {}/{} (racer = {})\".format(\n",
        "                i+1, len(racers), racer[items'])\n",
        "                 )\n",
        "    return winner_item_counts"
      ],
      "execution_count": null,
      "outputs": []
    },
    {
      "cell_type": "markdown",
      "metadata": {
        "id": "gyPkStuJa5sJ"
      },
      "source": [
        "He tried it on a small example list above and it seemed to work correctly:"
      ]
    },
    {
      "cell_type": "code",
      "metadata": {
        "colab": {
          "base_uri": "https://localhost:8080/"
        },
        "id": "h93oBhnea5sK",
        "outputId": "043c597f-a2c6-48d2-ea08-5d2605018da8"
      },
      "source": [
        "\n",
        "sample = [\n",
        "    {'name': 'Peach', 'items': ['green shell', 'banana', 'green shell',], 'finish': 3},\n",
        "    {'name': 'Bowser', 'items': ['green shell',], 'finish': 1},\n",
        "    {'name': None, 'items': ['mushroom',], 'finish': 2},\n",
        "    {'name': 'Toad', 'items': ['green shell', 'mushroom'], 'finish': 1},\n",
        "]\n",
        "best_items(sample)\n"
      ],
      "execution_count": 37,
      "outputs": [
        {
          "output_type": "execute_result",
          "data": {
            "text/plain": [
              "{'green shell': 2, 'mushroom': 1}"
            ]
          },
          "metadata": {},
          "execution_count": 37
        }
      ]
    },
    {
      "cell_type": "markdown",
      "metadata": {
        "id": "pkxShef6a5sK"
      },
      "source": [
        "However, when he tried running it on his full dataset, the program crashed with a `TypeError`.\n",
        "\n",
        "Can you guess why? Try running the code cell below to see the error message Luigi is getting. Once you've identified the bug, fix it in the cell below (so that it runs without any errors)."
      ]
    },
    {
      "cell_type": "code",
      "metadata": {
        "tags": [
          "raises-exception"
        ],
        "colab": {
          "base_uri": "https://localhost:8080/"
        },
        "id": "amc6wJjca5sL",
        "outputId": "3ced02e0-110b-4285-9448-4dfe459cc410"
      },
      "source": [
        "# Import luigi's full dataset of race data\n",
        "from learntools.python.luigi_analysis import full_dataset\n",
        "\n",
        "# Fix me!\n",
        "def best_items(racers):\n",
        "    winner_item_counts = {}\n",
        "    for i in range(len(racers)):\n",
        "        # The i'th racer dictionary\n",
        "        racer = racers[i]\n",
        "        # We're only interested in racers who finished in first\n",
        "        if racer['finish'] == 1:\n",
        "            for i in racer['items']:\n",
        "                # Add one to the count for this item (adding it to the dict if necessary)\n",
        "                if i not in winner_item_counts:\n",
        "                    winner_item_counts[i] = 0\n",
        "                winner_item_counts[i] += 1\n",
        "                \n",
        "       # Data quality issues :/ Print a warning about racers with no name set. We'll take care of it later.\n",
        "        if racer['items'] is None:\n",
        "            print(\"WARNING: Encountered racer with unknown name on iteration {}/{} (racer = {})\".format(\n",
        "                i+1, len(racers), racer['items'])\n",
        "                 )\n",
        "    return winner_item_counts\n",
        "\n",
        "# Try analyzing the imported full dataset\n",
        "best_items(full_dataset)\n",
        "      \n",
        "       \n",
        "       "
      ],
      "execution_count": 28,
      "outputs": [
        {
          "output_type": "execute_result",
          "data": {
            "text/plain": [
              "{'banana': 1, 'blue shell': 1, 'green shell': 4, 'red shell': 1, 'star': 1}"
            ]
          },
          "metadata": {},
          "execution_count": 28
        }
      ]
    },
    {
      "cell_type": "code",
      "metadata": {
        "colab": {
          "base_uri": "https://localhost:8080/",
          "height": 88
        },
        "id": "XCypTYpia5sM",
        "outputId": "cc9b8df4-9ab8-492b-a676-4499b0b62ba0"
      },
      "source": [
        "#q2.hint()"
      ],
      "execution_count": 27,
      "outputs": [
        {
          "output_type": "display_data",
          "data": {
            "application/javascript": [
              "parent.postMessage({\"jupyterEvent\": \"custom.exercise_interaction\", \"data\": {\"interactionType\": 2, \"questionType\": 4, \"questionId\": \"2_LuigiAnalysis\", \"learnToolsVersion\": \"0.3.4\", \"valueTowardsCompletion\": 0.0, \"failureMessage\": \"\", \"exceptionClass\": \"\", \"trace\": \"\", \"outcomeType\": 4}}, \"*\")"
            ],
            "text/plain": [
              "<IPython.core.display.Javascript object>"
            ]
          },
          "metadata": {}
        },
        {
          "output_type": "display_data",
          "data": {
            "text/markdown": "<span style=\"color:#3366cc\">Hint:</span> A couple things to consider:\n\n- What is the type of variable `i`?\n- What happens if you inspect the `full_dataset` list you imported? (Don't worry, it's not actually that big.) Can you find the racer that's causing the error?",
            "text/plain": [
              "Hint: A couple things to consider:\n",
              "\n",
              "- What is the type of variable `i`?\n",
              "- What happens if you inspect the `full_dataset` list you imported? (Don't worry, it's not actually that big.) Can you find the racer that's causing the error?"
            ]
          },
          "metadata": {}
        }
      ]
    },
    {
      "cell_type": "code",
      "metadata": {
        "colab": {
          "base_uri": "https://localhost:8080/",
          "height": 135
        },
        "id": "_nt9KJe1a5sM",
        "outputId": "95a252ac-49f2-4f2b-e908-1c065a6856ee"
      },
      "source": [
        "# Check your answer (Run this code cell to receive credit!)\n",
        "q2.solution()"
      ],
      "execution_count": 26,
      "outputs": [
        {
          "output_type": "error",
          "ename": "SyntaxError",
          "evalue": "ignored",
          "traceback": [
            "\u001b[0;36m  File \u001b[0;32m\"<ipython-input-26-86f5d043692b>\"\u001b[0;36m, line \u001b[0;32m1\u001b[0m\n\u001b[0;31m    Check your answer (Run this code cell to receive credit!)\u001b[0m\n\u001b[0m             ^\u001b[0m\n\u001b[0;31mSyntaxError\u001b[0m\u001b[0;31m:\u001b[0m invalid syntax\n"
          ]
        }
      ]
    },
    {
      "cell_type": "markdown",
      "metadata": {
        "id": "4wHXyLhza5sN"
      },
      "source": [
        "# 3. <span title=\"A bit spicy\" style=\"color: darkgreen \">🌶️</span>\n",
        "\n",
        "Suppose we wanted to create a new type to represent hands in blackjack. One thing we might want to do with this type is overload the comparison operators like `>` and `<=` so that we could use them to check whether one hand beats another. e.g. it'd be cool if we could do this:\n",
        "\n",
        "```python\n",
        ">>> hand1 = BlackjackHand(['K', 'A'])\n",
        ">>> hand2 = BlackjackHand(['7', '10', 'A'])\n",
        ">>> hand1 > hand2\n",
        "True\n",
        "```\n",
        "\n",
        "Well, we're not going to do all that in this question (defining custom classes is a bit beyond the scope of these lessons), but the code we're asking you to write in the function below is very similar to what we'd have to write if we were defining our own `BlackjackHand` class. (We'd put it in the `__gt__` magic method to define our custom behaviour for `>`.)\n",
        "\n",
        "Fill in the body of the `blackjack_hand_greater_than` function according to the docstring."
      ]
    },
    {
      "cell_type": "code",
      "metadata": {
        "colab": {
          "base_uri": "https://localhost:8080/",
          "height": 46
        },
        "id": "6AiTC1Oka5sO",
        "outputId": "d54cfa38-cf30-492b-8f97-c96d7ca058de"
      },
      "source": [
        "def blackjack_hand_greater_than(hand_1, hand_2):\n",
        "    \"\"\"\n",
        "    Return True if hand_1 beats hand_2, and False otherwise.\n",
        "    \n",
        "    In order for hand_1 to beat hand_2 the following must be true:\n",
        "    - The total of hand_1 must not exceed 21\n",
        "    - The total of hand_1 must exceed the total of hand_2 OR hand_2's total must exceed 21\n",
        "    \n",
        "    Hands are represented as a list of cards. Each card is represented by a string.\n",
        "    \n",
        "    When adding up a hand's total, cards with numbers count for that many points. Face\n",
        "    cards ('J', 'Q', and 'K') are worth 10 points. 'A' can count for 1 or 11.\n",
        "    \n",
        "    When determining a hand's total, you should try to count aces in the way that \n",
        "    maximizes the hand's total without going over 21. e.g. the total of ['A', 'A', '9'] is 21,\n",
        "    the total of ['A', 'A', '9', '3'] is 14.\n",
        "    \n",
        "    Examples:\n",
        "    >>> blackjack_hand_greater_than(['K'], ['3', '4'])\n",
        "    True\n",
        "    >>> blackjack_hand_greater_than(['K'], ['10'])\n",
        "    False\n",
        "    >>> blackjack_hand_greater_than(['K', 'K', '2'], ['3'])\n",
        "    False\n",
        "    \"\"\"\n",
        "def hand_total(hand):\n",
        "    \"\"\"Helper function to calculate the total points of a blackjack hand.\n",
        "    \"\"\"\n",
        "    total = 0\n",
        "    # Count the number of aces and deal with how to apply them at the end.\n",
        "    aces = 0\n",
        "    for card in hand:\n",
        "        if card in ['J', 'Q', 'K']:\n",
        "            total += 10\n",
        "        elif card == 'A':\n",
        "            aces += 1\n",
        "        else:\n",
        "            # Convert number cards (e.g. '7') to ints\n",
        "            total += int(card)\n",
        "    # At this point, total is the sum of this hand's cards *not counting aces*.\n",
        "\n",
        "    # Add aces, counting them as 1 for now. This is the smallest total we can make from this hand\n",
        "    total += aces\n",
        "    # \"Upgrade\" aces from 1 to 11 as long as it helps us get closer to 21\n",
        "    # without busting\n",
        "    while total + 10 <= 21 and aces > 0:\n",
        "        # Upgrade an ace from 1 to 11\n",
        "        total += 10\n",
        "        aces -= 1\n",
        "    return total\n",
        "\n",
        "def blackjack_hand_greater_than(hand_1, hand_2):\n",
        "    total_1 = hand_total(hand_1)\n",
        "    total_2 = hand_total(hand_2)\n",
        "    return total_1 <= 21 and (total_1 > total_2 or total_2 > 21)\n",
        "\n",
        "# Check your answer\n",
        "q3.check()"
      ],
      "execution_count": 35,
      "outputs": [
        {
          "output_type": "display_data",
          "data": {
            "application/javascript": [
              "parent.postMessage({\"jupyterEvent\": \"custom.exercise_interaction\", \"data\": {\"outcomeType\": 1, \"valueTowardsCompletion\": 0.3333333333333333, \"interactionType\": 1, \"questionType\": 2, \"questionId\": \"3_BlackjackCmp\", \"learnToolsVersion\": \"0.3.4\", \"failureMessage\": \"\", \"exceptionClass\": \"\", \"trace\": \"\"}}, \"*\")"
            ],
            "text/plain": [
              "<IPython.core.display.Javascript object>"
            ]
          },
          "metadata": {}
        },
        {
          "output_type": "display_data",
          "data": {
            "text/markdown": "<span style=\"color:#33cc33\">Correct</span>",
            "text/plain": [
              "Correct"
            ]
          },
          "metadata": {}
        }
      ]
    },
    {
      "cell_type": "code",
      "metadata": {
        "id": "c1Vozd3ka5sO"
      },
      "source": [
        "#q3.hint()\n",
        "#q3.solution()"
      ],
      "execution_count": 36,
      "outputs": []
    },
    {
      "cell_type": "markdown",
      "metadata": {
        "id": "dwtsXQ00a5sP"
      },
      "source": [
        "# The End\n",
        "\n",
        "You've finished the Python course. Congrats!\n",
        "\n",
        "Happy Pythoning!"
      ]
    }
  ]
}